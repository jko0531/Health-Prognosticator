{
 "cells": [
  {
   "cell_type": "markdown",
   "metadata": {
    "slideshow": {
     "slide_type": "slide"
    }
   },
   "source": [
    "# COLLABORATIVE FILTERING\n",
    "### Inspired by the research paper \n",
    "### \"Time to CARE: a collaborative engine for practical disease prediction\""
   ]
  },
  {
   "cell_type": "markdown",
   "metadata": {
    "slideshow": {
     "slide_type": "slide"
    }
   },
   "source": [
    "# Quick Introduction"
   ]
  },
  {
   "cell_type": "markdown",
   "metadata": {
    "slideshow": {
     "slide_type": "fragment"
    }
   },
   "source": [
    "#### *Collaborative Filtering is a recommender system designed to predict the preferences of a person based on the perferences of other similar users (sort of like netflix/amazon recommendations)*"
   ]
  },
  {
   "cell_type": "markdown",
   "metadata": {
    "slideshow": {
     "slide_type": "fragment"
    }
   },
   "source": [
    "#### *This technique is based on the assumption that people enjoy similar items as their peers*"
   ]
  },
  {
   "cell_type": "markdown",
   "metadata": {
    "slideshow": {
     "slide_type": "fragment"
    }
   },
   "source": [
    "#### *Applying it to healthcare data, we can generate predictions on other diseases based on a subset of similar patients*"
   ]
  },
  {
   "cell_type": "markdown",
   "metadata": {
    "slideshow": {
     "slide_type": "fragment"
    }
   },
   "source": [
    "#### *Well suited to disease prediction due to the known collaborative nature of diseases*"
   ]
  },
  {
   "cell_type": "markdown",
   "metadata": {
    "slideshow": {
     "slide_type": "slide"
    }
   },
   "source": [
    "# Methods"
   ]
  },
  {
   "cell_type": "markdown",
   "metadata": {
    "slideshow": {
     "slide_type": "fragment"
    }
   },
   "source": [
    "<dt>1. Basic CARE framework</dt>"
   ]
  },
  {
   "cell_type": "markdown",
   "metadata": {
    "slideshow": {
     "slide_type": "skip"
    }
   },
   "source": [
    "<dd>- Employ standard Collaborative Filtering applications</dd>"
   ]
  },
  {
   "cell_type": "markdown",
   "metadata": {
    "slideshow": {
     "slide_type": "fragment"
    }
   },
   "source": [
    "<dt>2. ICARE</dt>"
   ]
  },
  {
   "cell_type": "markdown",
   "metadata": {
    "slideshow": {
     "slide_type": "skip"
    }
   },
   "source": [
    "<dd>- An iterative version of CARE that incorporates new elements of significance testing and ensemble methods</dd>"
   ]
  },
  {
   "cell_type": "markdown",
   "metadata": {
    "slideshow": {
     "slide_type": "fragment"
    }
   },
   "source": [
    "<dt>3. Time-sensitive ICARE</dt>"
   ]
  },
  {
   "cell_type": "markdown",
   "metadata": {
    "slideshow": {
     "slide_type": "skip"
    }
   },
   "source": [
    "<dd>- ICARE system which uses exploits the known ordering of disease diagnoses</dd>"
   ]
  },
  {
   "cell_type": "markdown",
   "metadata": {
    "slideshow": {
     "slide_type": "skip"
    }
   },
   "source": [
    "<dd>- These improvements make it applicable to long-term, diverse data</dd>"
   ]
  },
  {
   "cell_type": "markdown",
   "metadata": {
    "slideshow": {
     "slide_type": "subslide"
    }
   },
   "source": [
    "# Work Flow\n",
    "![diagram](Diagram.png)"
   ]
  },
  {
   "cell_type": "markdown",
   "metadata": {
    "slideshow": {
     "slide_type": "slide"
    }
   },
   "source": [
    "# Step 1: Structure the Data"
   ]
  },
  {
   "cell_type": "code",
   "execution_count": 1,
   "metadata": {
    "collapsed": true,
    "slideshow": {
     "slide_type": "skip"
    }
   },
   "outputs": [],
   "source": [
    "import numpy as np\n",
    "import pandas as pd\n",
    "import time\n",
    "import math\n",
    "import sys\n",
    "import csv\n",
    "from datetime import datetime, date\n",
    "from sklearn.preprocessing import LabelEncoder"
   ]
  },
  {
   "cell_type": "markdown",
   "metadata": {
    "slideshow": {
     "slide_type": "skip"
    }
   },
   "source": [
    "# Some useful helper functions"
   ]
  },
  {
   "cell_type": "code",
   "execution_count": 2,
   "metadata": {
    "collapsed": false,
    "slideshow": {
     "slide_type": "skip"
    }
   },
   "outputs": [],
   "source": [
    "def calculate_age(born):\n",
    "    today = date.today()\n",
    "    b_date = datetime.strptime(born, '%m/%d/%Y')\n",
    "    return today.year - b_date.year - ((today.month, today.day) < (b_date.month, b_date.day))\n",
    "\n",
    "def calculate_gender(gender):\n",
    "    if gender == 'M':\n",
    "        return 0\n",
    "    elif gender == 'F':\n",
    "        return 1\n",
    "    else:\n",
    "        return 2\n",
    "    \n",
    "def check_valid(code, disease_codes):\n",
    "\n",
    "    if code == 0 or code == '-------':\n",
    "        return 0\n",
    "\n",
    "    if code in disease_codes:\n",
    "        return code\n",
    "    else:\n",
    "        new_code = '0' + code\n",
    "        if new_code in disease_codes:\n",
    "            return new_code\n",
    "        else:\n",
    "            new_code2 = '0' + new_code\n",
    "            if new_code2 in disease_codes:\n",
    "                return new_code2\n",
    "            else:\n",
    "                return 0\n",
    "\n",
    "def parse_diags(diag_list, disease_codes):\n",
    "    new_list = []\n",
    "    for diag in diag_list:\n",
    "        new_diag = check_valid(diag, disease_codes)\n",
    "        (new_list.append(new_diag) if new_diag is not 0 else 0)\n",
    "\n",
    "    return new_list"
   ]
  },
  {
   "cell_type": "markdown",
   "metadata": {
    "slideshow": {
     "slide_type": "subslide"
    }
   },
   "source": [
    "# Visit class"
   ]
  },
  {
   "cell_type": "code",
   "execution_count": 3,
   "metadata": {
    "collapsed": true,
    "slideshow": {
     "slide_type": "fragment"
    }
   },
   "outputs": [],
   "source": [
    "class Visit:\n",
    "    \n",
    "    \"\"\"Holds information about a visit for each patient\"\"\"\n",
    "\n",
    "    def __init__(self, adj_date, visit):\n",
    "        self.visit = visit\n",
    "        self.adj_date = adj_date\n",
    "\n",
    "    def getVisit(self):\n",
    "        return self.visit\n",
    "\n",
    "    def getDate(self):\n",
    "        return self.adj_date"
   ]
  },
  {
   "cell_type": "markdown",
   "metadata": {
    "slideshow": {
     "slide_type": "subslide"
    }
   },
   "source": [
    "# Patient Class"
   ]
  },
  {
   "cell_type": "code",
   "execution_count": 4,
   "metadata": {
    "collapsed": true,
    "slideshow": {
     "slide_type": "fragment"
    }
   },
   "outputs": [],
   "source": [
    "class Patient:\n",
    "    \n",
    "    \"\"\"Holds information regarding the details of each patient\"\"\"\n",
    "\n",
    "    def __init__(self, mem_id, gender, age, visit, adj_date):\n",
    "        self.visits = []\n",
    "        self.mem_id = mem_id\n",
    "        self.gender = gender\n",
    "        self.age = age\n",
    "        #v = Visit(adj_date, visit)\n",
    "        self.visits.append(Visit(adj_date, visit))\n",
    "        \n",
    "    def getMemID(self):\n",
    "        return self.mem_id\n",
    "\n",
    "    def getGender(self):\n",
    "        return self.gender\n",
    "\n",
    "    def getAge(self):\n",
    "        return self.age\n",
    "    \n",
    "    def getVisits(self):\n",
    "        return self.visits\n",
    "    \n",
    "    def addVisit(self, adj_date, visit):\n",
    "        self.visits.append(Visit(adj_date, visit))\n",
    "        self.visits.sort(key=lambda x: x.adj_date)\n",
    "        \n",
    "    def getUnique(self):\n",
    "        unique_codes = set()\n",
    "        for visit in self.visits:\n",
    "            unique_codes |= set(visit.getVisit())\n",
    "        return unique_codes"
   ]
  },
  {
   "cell_type": "markdown",
   "metadata": {
    "slideshow": {
     "slide_type": "subslide"
    }
   },
   "source": [
    "# Sample line from a data file"
   ]
  },
  {
   "cell_type": "markdown",
   "metadata": {
    "slideshow": {
     "slide_type": "fragment"
    }
   },
   "source": [
    "#### TBD"
   ]
  },
  {
   "cell_type": "markdown",
   "metadata": {
    "slideshow": {
     "slide_type": "skip"
    }
   },
   "source": [
    "# Parse CSV for dictionary"
   ]
  },
  {
   "cell_type": "code",
   "execution_count": 5,
   "metadata": {
    "collapsed": true,
    "slideshow": {
     "slide_type": "skip"
    }
   },
   "outputs": [],
   "source": [
    "def parseCSV(categoryfile, labelfile):\n",
    "    \"\"\"\n",
    "    USAGE\n",
    "    categoryfile - The file provided by HCUP. Should be called '$dxref 2015.csv'\n",
    "    labelfile - The file provided by HCUP. Should be called 'dxlabel 2015.csv'\n",
    "\n",
    "    RETURNS\n",
    "    dictionary - Dictionary mapping from {icd9 codes : HCUP category }\n",
    "    i2d - Index to diagnosis.. { column index : ic9 diagnosis code }\n",
    "    d2i - Diagnosis to index.. { ic0 diagnosis code : column index }\n",
    "    \n",
    "        * note * i2d and d2i includes the age and gender as the first 2 indexes\n",
    "    \"\"\"\n",
    "\n",
    "    dictionary, better_dictionary, labels, d2i, i2d = {}, {}, {}, {}, {}\n",
    "    diseases = []\n",
    "\n",
    "\n",
    "    # add birthday & gender to the d2i and i2d dictionaries\n",
    "    d2i['Age'] = 0\n",
    "    i2d[0] = 'Age'\n",
    "    d2i['Gender'] = 1\n",
    "    i2d[1] = 'Gender'\n",
    "\n",
    "    # parse the diagnosis code labels\n",
    "    count = 0\n",
    "    with open(labelfile, 'rb') as csvfile:\n",
    "        datareader = csv.reader(csvfile)\n",
    "\n",
    "        for row in datareader:\n",
    "            if count > 3:\n",
    "                labels[int(row[0])] = row[1]\n",
    "                #maplabels[count-4] = int(row[0])\n",
    "                diseases.append(row[1])\n",
    "\n",
    "            count+=1\n",
    "\n",
    "    csvfile.close()\n",
    "\n",
    "    # parse the diagnosis codes file\n",
    "    count = 0\n",
    "    with open(categoryfile, 'rb') as csvfile:\n",
    "        datareader = csv.reader(csvfile)\n",
    "\n",
    "        for row in datareader:\n",
    "            if count >= 3:\n",
    "                row[0] = row[0].replace(\"'\",\"\").strip()\n",
    "                row[1] = row[1].replace(\"'\", \"\").strip()\n",
    "                dictionary[row[0]] = labels[int(row[1])]\n",
    "                better_dictionary[row[0]] = row[3]\n",
    "                d2i[row[0]] = count - 1\n",
    "                i2d[count - 1] = row[0]\n",
    "            \n",
    "\n",
    "            count+=1\n",
    "\n",
    "    csvfile.close()\n",
    "\n",
    "    return dictionary, i2d, d2i, diseases, better_dictionary\n"
   ]
  },
  {
   "cell_type": "markdown",
   "metadata": {
    "slideshow": {
     "slide_type": "skip"
    }
   },
   "source": [
    "# Parsing CSV files, create the DataFrame"
   ]
  },
  {
   "cell_type": "code",
   "execution_count": 6,
   "metadata": {
    "collapsed": true,
    "slideshow": {
     "slide_type": "skip"
    }
   },
   "outputs": [],
   "source": [
    "def cleanData(filename):\n",
    "    relevant_columns = ['Member System ID', 'Adjudication Date', 'Patient Birth Date', \\\n",
    "                        'Patient Gender Code', 'Diagnosis One Code', \\\n",
    "                        'Diagnosis Two Code', 'Diagnosis Three Code', \\\n",
    "                        'Diagnosis Four Code', 'Diagnosis Five Code']\n",
    "\n",
    "    df = pd.read_csv(file1, usecols=relevant_columns, dtype=np.str)\\\n",
    "            .drop_duplicates()\\\n",
    "            .reset_index().drop('index', axis=1).fillna(0)\n",
    "    df = df[relevant_columns]\n",
    "    df['Adjudication Date'] = pd.to_datetime(df['Adjudication Date'], format='%m/%d/%Y')\n",
    "    df['Patient Birth Date'] = df['Patient Birth Date'].apply(calculate_age)\n",
    "    df['Patient Gender Code'] = df['Patient Gender Code'].apply(calculate_gender)\n",
    "\n",
    "    return df"
   ]
  },
  {
   "cell_type": "markdown",
   "metadata": {
    "slideshow": {
     "slide_type": "skip"
    }
   },
   "source": [
    "# Create Patient Database"
   ]
  },
  {
   "cell_type": "code",
   "execution_count": 7,
   "metadata": {
    "collapsed": true,
    "slideshow": {
     "slide_type": "skip"
    }
   },
   "outputs": [],
   "source": [
    "def createPatients(df, disease_codes):\n",
    "    patients, diseases = {}, {}\n",
    "\n",
    "    for row in df.itertuples():\n",
    "        mem_id = row[1]\n",
    "        adj_date = row[2]\n",
    "        age = row[3]\n",
    "        gender = row[4]\n",
    "        visit = parse_diags(row[5:], disease_codes)\n",
    "        \n",
    "        for item in visit:\n",
    "            if item not in diseases:\n",
    "                diseases[item] = set()\n",
    "            diseases[item].add(mem_id)\n",
    "\n",
    "        if mem_id not in patients:\n",
    "            p = Patient(mem_id, gender, age, visit, adj_date)\n",
    "            patients[mem_id] = p\n",
    "        else:\n",
    "            patients[mem_id].addVisit(adj_date, visit)\n",
    "\n",
    "    return patients, diseases"
   ]
  },
  {
   "cell_type": "markdown",
   "metadata": {
    "slideshow": {
     "slide_type": "skip"
    }
   },
   "source": [
    "# Set up for CARE"
   ]
  },
  {
   "cell_type": "code",
   "execution_count": 8,
   "metadata": {
    "collapsed": true,
    "slideshow": {
     "slide_type": "skip"
    }
   },
   "outputs": [],
   "source": [
    "def setupCARE(filename):\n",
    "    categoryfile = '$dxref 2015.csv'\n",
    "    labelfile = 'dxlabel 2015.csv'\n",
    "    df = cleanData(filename)\n",
    "    dic, i2d, d2i, foo_diseases, better_dic = parseCSV(categoryfile, labelfile)\n",
    "    disease_codes = set(dic.keys())\n",
    "    patients, diseases = createPatients(df, disease_codes)\n",
    "    return patients, diseases, disease_codes, dic, better_dic"
   ]
  },
  {
   "cell_type": "code",
   "execution_count": 9,
   "metadata": {
    "collapsed": false,
    "slideshow": {
     "slide_type": "skip"
    }
   },
   "outputs": [
    {
     "name": "stdout",
     "output_type": "stream",
     "text": [
      "--- 4.99566507339 seconds ---\n"
     ]
    }
   ],
   "source": [
    "start_time = time.time()\n",
    "file1 = 'file1.csv'\n",
    "file2 = 'file2.csv'\n",
    "file3 = 'file3.csv'\n",
    "patients, diseases, disease_codes, dic, better_dic = setupCARE(file1)\n",
    "print('--- %s seconds ---' %(time.time() - start_time))"
   ]
  },
  {
   "cell_type": "markdown",
   "metadata": {
    "slideshow": {
     "slide_type": "slide"
    }
   },
   "source": [
    "# Step 2: Similarity Constraint for training set"
   ]
  },
  {
   "cell_type": "markdown",
   "metadata": {
    "slideshow": {
     "slide_type": "fragment"
    }
   },
   "source": [
    "#### *We obtain our training set by constraining our patient database with users with at least 2 common diseases with the target patient*"
   ]
  },
  {
   "cell_type": "markdown",
   "metadata": {
    "slideshow": {
     "slide_type": "fragment"
    }
   },
   "source": [
    "#### *This serves to remove the influence of patients with little or no similarity with the target patient*"
   ]
  },
  {
   "cell_type": "markdown",
   "metadata": {
    "slideshow": {
     "slide_type": "fragment"
    }
   },
   "source": [
    "#### *Does not result in loss of information, and reduces runtime of the algorithm*"
   ]
  },
  {
   "cell_type": "code",
   "execution_count": 10,
   "metadata": {
    "collapsed": true,
    "slideshow": {
     "slide_type": "skip"
    }
   },
   "outputs": [],
   "source": [
    "def train_filter(target, patients, diseases):\n",
    "    # filter patients that have at least 2 common diseases\n",
    "    patient_train = {}\n",
    "    disease_train = {}\n",
    "    target_diseases = target.getUnique()\n",
    "\n",
    "    #for disease in target_diseases:\n",
    "    #    disease_train[disease] = set()\n",
    "    #    disease_train[disease].add(target.getMemID())\n",
    "    \n",
    "    for patient in patients.values():\n",
    "        #patient_diseases = patient.getUnique()\n",
    "        combined = target_diseases & patient.getUnique()\n",
    "        if len(combined) >= 2:\n",
    "            patient_train[patient.getMemID()] = patient\n",
    "            for disease in patient.getUnique():\n",
    "                if disease not in disease_train:\n",
    "                    disease_train[disease] = set()\n",
    "                disease_train[disease].add(patient.getMemID())\n",
    "        \n",
    "    return patient_train, disease_train"
   ]
  },
  {
   "cell_type": "markdown",
   "metadata": {
    "slideshow": {
     "slide_type": "skip"
    }
   },
   "source": [
    "# C.A.R.E"
   ]
  },
  {
   "cell_type": "markdown",
   "metadata": {
    "slideshow": {
     "slide_type": "skip"
    }
   },
   "source": [
    "# The meat of it all:"
   ]
  },
  {
   "cell_type": "code",
   "execution_count": 11,
   "metadata": {
    "collapsed": true,
    "slideshow": {
     "slide_type": "skip"
    }
   },
   "outputs": [],
   "source": [
    "def implementCARE(target, patients, diseases, disease_codes):\n",
    "\n",
    "    ### VECTOR SIMILARITY ###\n",
    "    def vote(patient, disease):\n",
    "        if disease in patient.getUnique():\n",
    "            return 1.0\n",
    "        else:\n",
    "            return 0.0\n",
    "\n",
    "    def f(j):\n",
    "        \"\"\"Returns: log(# of patients in database / # of patients with disease j)\"\"\"\n",
    "\n",
    "        return np.log( (1.0)*len(patients) / len(diseases[j]) )\n",
    "\n",
    "\n",
    "    # possible optimization: turn the getUnique() set into a numpy array, then do\n",
    "    # array-wise multiplication...nah\n",
    "    def w(a, i):\n",
    "        total_sum = 0\n",
    "        combined = a.getUnique() & i.getUnique()\n",
    "        for disease in combined:\n",
    "            first_half = f(disease) / math.sqrt(sum(f(k)**2 for k in a.getUnique()))\n",
    "            second_half = f(disease) / math.sqrt(sum(f(k)**2 for k in i.getUnique()))\n",
    "            total_sum += first_half * second_half\n",
    "        return total_sum\n",
    "\n",
    "    ### PREDICTION SCORE ###\n",
    "    def V(j):\n",
    "        return (1.0) * len(diseases[j]) / len(patients)\n",
    "    \n",
    "    def V_C(j, c):\n",
    "        return (1.0) * len(diseases[j] & diseases[c]) / len(patients)\n",
    "\n",
    "    def K(a):\n",
    "        return 1.0 / (sum(w(a, i) for i in patients.values()))\n",
    "\n",
    "    def p(a, j):\n",
    "        return V(j) + K(a) * (1.0 - V(j)) * (sum(w(a, patients[i]) for i in diseases[j]))\n",
    "\n",
    "    ### BEGIN PREDICTION ###\n",
    "    # TODO: need to fix & filter diseases to the train_set\n",
    "    #print(p(target, '6961'))\n",
    "    disease_score = []\n",
    "    for disease in diseases.keys():\n",
    "        score = p(target, disease)\n",
    "        disease_score.append([score, disease])\n",
    "    \n",
    "    disease_score.sort(key = lambda x: x[0], reverse=True)\n",
    "\n",
    "    return disease_score"
   ]
  },
  {
   "cell_type": "markdown",
   "metadata": {
    "slideshow": {
     "slide_type": "skip"
    }
   },
   "source": [
    "# Printing functions for patients"
   ]
  },
  {
   "cell_type": "code",
   "execution_count": 12,
   "metadata": {
    "collapsed": true,
    "slideshow": {
     "slide_type": "skip"
    }
   },
   "outputs": [],
   "source": [
    "def printPatient(patient, dic):\n",
    "    count = 1\n",
    "    print('The patient has the following diseases:')\n",
    "    for disease in patient.getUnique():\n",
    "        print('\\t%d. ' %count + dic[disease] + ' (' + disease + ')')\n",
    "        count+=1\n",
    "    print('\\n')"
   ]
  },
  {
   "cell_type": "code",
   "execution_count": 13,
   "metadata": {
    "collapsed": true,
    "slideshow": {
     "slide_type": "skip"
    }
   },
   "outputs": [],
   "source": [
    "def printDiseases(patient, predictedDiseases, dic):\n",
    "    count = 1\n",
    "    print('The patient has a possibility of getting the following 10 diseases:')\n",
    "    for disease in predictedDiseases:\n",
    "        if disease[1] in patient.getUnique():\n",
    "            continue\n",
    "        print('\\t%d. ' %count + dic[disease[1]] + ' (' + disease[1] + \\\n",
    "              ') -- ' + '{0:.2f}'.format(disease[0]))\n",
    "        count+=1\n",
    "        if count == 11:\n",
    "            return"
   ]
  },
  {
   "cell_type": "markdown",
   "metadata": {
    "slideshow": {
     "slide_type": "slide"
    }
   },
   "source": [
    "# Step 3: Experiments"
   ]
  },
  {
   "cell_type": "markdown",
   "metadata": {
    "slideshow": {
     "slide_type": "subslide"
    }
   },
   "source": [
    "# Create our example patient to be used as the target"
   ]
  },
  {
   "cell_type": "code",
   "execution_count": 14,
   "metadata": {
    "collapsed": false,
    "slideshow": {
     "slide_type": "fragment"
    }
   },
   "outputs": [
    {
     "name": "stdout",
     "output_type": "stream",
     "text": [
      "The patient has the following diseases:\n",
      "\t1. ROUTINE MEDICAL EXAM (V700)\n",
      "\t2. Disord iron metablsm NEC (Begin 2010) (27509)\n",
      "\t3. ANXIETY STATE NOS (30000)\n",
      "\n",
      "\n"
     ]
    }
   ],
   "source": [
    "patient_zero = Patient('1', '0', '57', ['27509', '30000', 'V700'], '05/31/1994')\n",
    "\n",
    "printPatient(patient_zero, better_dic)"
   ]
  },
  {
   "cell_type": "markdown",
   "metadata": {
    "slideshow": {
     "slide_type": "subslide"
    }
   },
   "source": [
    "# Create our training sample set from the database based on our target patient"
   ]
  },
  {
   "cell_type": "code",
   "execution_count": 15,
   "metadata": {
    "collapsed": false,
    "slideshow": {
     "slide_type": "fragment"
    }
   },
   "outputs": [],
   "source": [
    "patient_train, disease_train = train_filter(patient_zero, patients, diseases)"
   ]
  },
  {
   "cell_type": "markdown",
   "metadata": {
    "slideshow": {
     "slide_type": "subslide"
    }
   },
   "source": [
    "# Make CARE prediction"
   ]
  },
  {
   "cell_type": "code",
   "execution_count": 16,
   "metadata": {
    "collapsed": false,
    "slideshow": {
     "slide_type": "fragment"
    }
   },
   "outputs": [
    {
     "name": "stdout",
     "output_type": "stream",
     "text": [
      "The patient has a possibility of getting the following 10 diseases:\n",
      "\t1. CIRRHOSIS OF LIVER NOS (5715) -- 0.99\n",
      "\t2. OTHER PSORIASIS (6961) -- 0.80\n",
      "\t3. LONGTERM USE OTH MED (Begin 1995) (V5869) -- 0.42\n",
      "\t4. ENCEPHALOPATHY- UNSPECIFIED (Begin 2003) (34830) -- 0.40\n",
      "\t5. Hemochromatos-rbc trans (Begin 2010) (27502) -- 0.40\n",
      "\t6. CLOSED SKULL VAULT FX (80000) -- 0.40\n",
      "\t7. SCREEN MALIG PROSTATE (Begin 1998) (V7644) -- 0.34\n",
      "\t8. CHR HEPAT C W/O COMA (Begin 1994) (07054) -- 0.33\n",
      "\t9. ELEV BL PRES W/O HYPERTN (7962) -- 0.33\n",
      "\t10. AC FRONTAL SINUSITIS (4611) -- 0.33\n"
     ]
    }
   ],
   "source": [
    "predDisease = implementCARE(patient_zero, patient_train, disease_train, disease_codes)\n",
    "#printPatient(patient_zero, better_dic)\n",
    "printDiseases(patient_zero, predDisease[:20], better_dic)"
   ]
  },
  {
   "cell_type": "markdown",
   "metadata": {
    "slideshow": {
     "slide_type": "subslide"
    }
   },
   "source": [
    "# Make ICARE Prediction"
   ]
  }
 ],
 "metadata": {
  "celltoolbar": "Slideshow",
  "kernelspec": {
   "display_name": "Python 2",
   "language": "python",
   "name": "python2"
  },
  "language_info": {
   "codemirror_mode": {
    "name": "ipython",
    "version": 2
   },
   "file_extension": ".py",
   "mimetype": "text/x-python",
   "name": "python",
   "nbconvert_exporter": "python",
   "pygments_lexer": "ipython2",
   "version": "2.7.11"
  }
 },
 "nbformat": 4,
 "nbformat_minor": 0
}
