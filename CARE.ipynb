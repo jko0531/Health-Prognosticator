{
 "cells": [
  {
   "cell_type": "markdown",
   "metadata": {
    "slideshow": {
     "slide_type": "slide"
    }
   },
   "source": [
    "# COLLABORATIVE FILTERING\n",
    "## Inspired by the research paper \n",
    "## \"Time to CARE: a collaborative engine for practical disease prediction\""
   ]
  },
  {
   "cell_type": "markdown",
   "metadata": {
    "slideshow": {
     "slide_type": "slide"
    }
   },
   "source": [
    "# Quick Introduction"
   ]
  },
  {
   "cell_type": "markdown",
   "metadata": {
    "slideshow": {
     "slide_type": "fragment"
    }
   },
   "source": [
    "#### *Collaborative Filtering is a recommender system designed to predict the preferences of a person based on the perferences of other similar users (sort of like netflix/amazon recommendations)*"
   ]
  },
  {
   "cell_type": "markdown",
   "metadata": {
    "slideshow": {
     "slide_type": "fragment"
    }
   },
   "source": [
    "#### *This technique is based on the assumption that people enjoy similar items as their peers*"
   ]
  },
  {
   "cell_type": "markdown",
   "metadata": {
    "slideshow": {
     "slide_type": "fragment"
    }
   },
   "source": [
    "#### *Applying it to healthcare data, we can generate predictions on other diseases based on a subset of similar patients*"
   ]
  },
  {
   "cell_type": "markdown",
   "metadata": {
    "slideshow": {
     "slide_type": "fragment"
    }
   },
   "source": [
    "#### *Well suited to disease prediction due to the known collaborative nature of diseases*"
   ]
  },
  {
   "cell_type": "markdown",
   "metadata": {
    "slideshow": {
     "slide_type": "slide"
    }
   },
   "source": [
    "# Methods"
   ]
  },
  {
   "cell_type": "markdown",
   "metadata": {
    "slideshow": {
     "slide_type": "fragment"
    }
   },
   "source": [
    "<dt>1. Basic CARE framework</dt>"
   ]
  },
  {
   "cell_type": "markdown",
   "metadata": {
    "slideshow": {
     "slide_type": "skip"
    }
   },
   "source": [
    "<dd>- Employ standard Collaborative Filtering applications</dd>"
   ]
  },
  {
   "cell_type": "markdown",
   "metadata": {
    "slideshow": {
     "slide_type": "fragment"
    }
   },
   "source": [
    "<dt>2. ICARE</dt>"
   ]
  },
  {
   "cell_type": "markdown",
   "metadata": {
    "slideshow": {
     "slide_type": "skip"
    }
   },
   "source": [
    "<dd>- An iterative version of CARE that incorporates new elements of significance testing and ensemble methods</dd>"
   ]
  },
  {
   "cell_type": "markdown",
   "metadata": {
    "slideshow": {
     "slide_type": "fragment"
    }
   },
   "source": [
    "<dt>3. Time-sensitive ICARE</dt>"
   ]
  },
  {
   "cell_type": "markdown",
   "metadata": {
    "slideshow": {
     "slide_type": "skip"
    }
   },
   "source": [
    "<dd>- ICARE system which uses exploits the known ordering of disease diagnoses</dd>"
   ]
  },
  {
   "cell_type": "markdown",
   "metadata": {
    "slideshow": {
     "slide_type": "skip"
    }
   },
   "source": [
    "<dd>- These improvements make it applicable to long-term, diverse data</dd>"
   ]
  },
  {
   "cell_type": "markdown",
   "metadata": {
    "slideshow": {
     "slide_type": "subslide"
    }
   },
   "source": [
    "# Work Flow\n",
    "![diagram](Diagram.png)"
   ]
  },
  {
   "cell_type": "markdown",
   "metadata": {
    "slideshow": {
     "slide_type": "slide"
    }
   },
   "source": [
    "# Step 1: Structure the Data"
   ]
  },
  {
   "cell_type": "code",
   "execution_count": 1,
   "metadata": {
    "collapsed": true,
    "slideshow": {
     "slide_type": "skip"
    }
   },
   "outputs": [],
   "source": [
    "import numpy as np\n",
    "import pandas as pd\n",
    "import time\n",
    "import math\n",
    "import sys\n",
    "import csv\n",
    "from datetime import date, datetime"
   ]
  },
  {
   "cell_type": "code",
   "execution_count": 2,
   "metadata": {
    "collapsed": true,
    "slideshow": {
     "slide_type": "skip"
    }
   },
   "outputs": [],
   "source": [
    "file1 = 'file1.csv'\n",
    "file2 = 'file2.csv'\n",
    "file3 = 'file3.csv'"
   ]
  },
  {
   "cell_type": "code",
   "execution_count": 3,
   "metadata": {
    "collapsed": true,
    "slideshow": {
     "slide_type": "skip"
    }
   },
   "outputs": [],
   "source": [
    "class Visit:\n",
    "    \n",
    "    \"\"\"Holds information about a visit for each patient\"\"\"\n",
    "\n",
    "    def __init__(self, adj_date, visit):\n",
    "        self.visit = visit\n",
    "        self.adj_date = adj_date\n",
    "\n",
    "    def getVisit(self):\n",
    "        return self.visit\n",
    "\n",
    "    def getDate(self):\n",
    "        return self.adj_date"
   ]
  },
  {
   "cell_type": "markdown",
   "metadata": {
    "slideshow": {
     "slide_type": "subslide"
    }
   },
   "source": [
    "# Patient Class"
   ]
  },
  {
   "cell_type": "code",
   "execution_count": 14,
   "metadata": {
    "collapsed": true,
    "slideshow": {
     "slide_type": "fragment"
    }
   },
   "outputs": [],
   "source": [
    "class Patient:\n",
    "    \n",
    "    \"\"\"Holds information regarding the details of each patient\n",
    "    \n",
    "    MEMBER VARIABLES\n",
    "    visits - list of visit objects\n",
    "    mem_id - The member ID of each patient\n",
    "    Gender - 0 = Male, 1 = Female\n",
    "    Age - This is pretty obvious\n",
    "\n",
    "    \"\"\"\n",
    "\n",
    "    def __init__(self, mem_id, gender, age, visit, adj_date):\n",
    "        self.visits = []\n",
    "        self.mem_id = mem_id\n",
    "        self.gender = gender\n",
    "        self.age = age\n",
    "        self.visits.append(Visit(adj_date, visit))\n",
    "        \n",
    "\n",
    "    def getMemID(self):\n",
    "        return self.mem_id\n",
    "\n",
    "    def getGender(self):\n",
    "        return self.gender\n",
    "\n",
    "    def getAge(self):\n",
    "        return self.age\n",
    "\n",
    "    def getVisits(self):\n",
    "        return self.visits\n",
    "\n",
    "    def addVisit(self, adj_date, visit):\n",
    "        self.visits.append(Visit(adj_date, visit))\n",
    "        self.visits.sort(key=lambda x: x.adj_date)\n",
    "\n",
    "    def getUnique(self):\n",
    "        unique_codes = set()\n",
    "        for visit in self.visits:\n",
    "            unique_codes |= set(visit.getVisit())\n",
    "        return unique_codes"
   ]
  },
  {
   "cell_type": "code",
   "execution_count": 5,
   "metadata": {
    "collapsed": true,
    "slideshow": {
     "slide_type": "skip"
    }
   },
   "outputs": [],
   "source": [
    "class CARE:\n",
    "\n",
    "\tdef __init__(self, filename):\n",
    "\t\tself.patients, self.diseases, self.disease_codes, self.dic = self.setupCARE(filename)\n",
    "\n",
    "\tdef getPatients(self):\n",
    "\t\treturn self.patients\n",
    "\n",
    "\tdef getDiseases(self):\n",
    "\t\treturn self.diseases\n",
    "\n",
    "\tdef getDiseaseCodes(self):\n",
    "\t\treturn self.disease_codes\n",
    "\n",
    "\tdef getDic(self):\n",
    "\t\treturn self.dic\n",
    "\n",
    "\n",
    "\t##### FUNCTION TO SET UP DATA FOR ANALYSIS #####\n",
    "\tdef setupCARE(self, filename):\n",
    "\n",
    "\t\tdef cleanData(filename):\n",
    "\t\t\t\n",
    "\t\t\tdef calculate_gender(gender):\n",
    "\t\t\t\tif gender == 'M':\n",
    "\t\t\t\t\treturn 0\n",
    "\t\t\t\telif gender == 'F':\n",
    "\t\t\t\t\treturn 1\n",
    "\t\t\t\telse:\n",
    "\t\t\t\t\treturn 2\n",
    "\t\t\tdef calculate_age(born):\n",
    "\t\t\t\ttoday = date.today()\n",
    "\t\t\t\tb_date = datetime.strptime(born, '%m/%d/%Y')\n",
    "\t\t\t\treturn today.year - b_date.year - ((today.month, today.day) < (b_date.month, b_date.day))\n",
    "\n",
    "\n",
    "\t\t\trelevant_columns = ['Member System ID', 'Adjudication Date', 'Patient Birth Date', \\\n",
    "\t\t\t\t\t\t\t\t'Patient Gender Code', 'Diagnosis One Code', \\\n",
    "\t\t\t\t\t\t\t\t'Diagnosis Two Code', 'Diagnosis Three Code', \\\n",
    "\t\t\t\t\t\t\t\t'Diagnosis Four Code', 'Diagnosis Five Code']\n",
    "\n",
    "\t\t\tdf = pd.read_csv(filename, usecols=relevant_columns, dtype=np.str)\\\n",
    "\t\t\t\t\t.drop_duplicates()\\\n",
    "\t\t\t\t\t.reset_index().drop('index', axis=1).fillna(0)\n",
    "\t\t\tdf = df[relevant_columns]\n",
    "\t\t\tdf['Adjudication Date'] = pd.to_datetime(df['Adjudication Date'], format='%m/%d/%Y')\n",
    "\t\t\tdf['Patient Birth Date'] = df['Patient Birth Date'].apply(calculate_age)\n",
    "\t\t\tdf['Patient Gender Code'] = df['Patient Gender Code'].apply(calculate_gender)\n",
    "\n",
    "\t\t\treturn df\n",
    "\n",
    "\t\tdef parseCSV(categoryfile='$dxref 2015.csv'):\n",
    "\t\t\t\"\"\"\n",
    "\t\t\tUSAGE\n",
    "\t\t\tcategoryfile - The file provided by HCUP. Should be called '$dxref 2015.csv'\n",
    "\n",
    "\t\t\tRETURNS\n",
    "\t\t\tdictionary - Dictionary mapping from {icd9 codes : icd9 description }\n",
    "\t\t\t\"\"\"\n",
    "\n",
    "\t\t\tdictionary = {}\n",
    "\n",
    "\t\t\t# parse the diagnosis codes file\n",
    "\t\t\tcount = 0\n",
    "\t\t\twith open(categoryfile, 'rb') as csvfile:\n",
    "\t\t\t\tdatareader = csv.reader(csvfile)\n",
    "\n",
    "\t\t\t\tfor row in datareader:\n",
    "\t\t\t\t\tif count >= 3:\n",
    "\t\t\t\t\t\trow[0] = row[0].replace(\"'\",\"\").strip()\n",
    "\t\t\t\t\t\tdictionary[row[0]] = row[3]\n",
    "\t\t\t\t\tcount+=1\n",
    "\n",
    "\t\t\tcsvfile.close()\n",
    "\n",
    "\t\t\treturn dictionary\n",
    "\n",
    "\t\tdef createPatients(df, disease_codes):\n",
    "\n",
    "\t\t\tdef parse_diags(diag_list, disease_codes):\n",
    "\n",
    "\t\t\t\tdef check_valid(code, disease_codes):\n",
    "\n",
    "\t\t\t\t\tif code == 0 or code == '-------':\n",
    "\t\t\t\t\t\treturn 0\n",
    "\n",
    "\t\t\t\t\tif code in disease_codes:\n",
    "\t\t\t\t\t\treturn code\n",
    "\t\t\t\t\telse:\n",
    "\t\t\t\t\t\tnew_code = '0' + code\n",
    "\t\t\t\t\t\tif new_code in disease_codes:\n",
    "\t\t\t\t\t\t\treturn new_code\n",
    "\t\t\t\t\t\telse:\n",
    "\t\t\t\t\t\t\tnew_code2 = '0' + new_code\n",
    "\t\t\t\t\t\t\tif new_code2 in disease_codes:\n",
    "\t\t\t\t\t\t\t\treturn new_code2\n",
    "\t\t\t\t\t\t\telse:\n",
    "\t\t\t\t\t\t\t\treturn 0\n",
    "\n",
    "\n",
    "\t\t\t\tnew_list = []\n",
    "\t\t\t\tfor diag in diag_list:\n",
    "\t\t\t\t\tnew_diag = check_valid(diag, disease_codes)\n",
    "\t\t\t\t\t(new_list.append(new_diag) if new_diag is not 0 else 0)\n",
    "\t\t\t\treturn new_list\n",
    "\n",
    "\t\t\tpatients, diseases = {}, {}\n",
    "\n",
    "\t\t\tfor row in df.itertuples():\n",
    "\t\t\t\tmem_id = row[1]\n",
    "\t\t\t\tadj_date = row[2]\n",
    "\t\t\t\tage = row[3]\n",
    "\t\t\t\tgender = row[4]\n",
    "\t\t\t\tvisit = parse_diags(row[5:], disease_codes)\n",
    "\t\t\t\t\n",
    "\t\t\t\tfor item in visit:\n",
    "\t\t\t\t\tif item not in diseases:\n",
    "\t\t\t\t\t    diseases[item] = set()\n",
    "\t\t\t\t\tdiseases[item].add(mem_id)\n",
    "\n",
    "\t\t\t\tif mem_id not in patients:\n",
    "\t\t\t\t\tp = Patient(mem_id, gender, age, visit, adj_date)\n",
    "\t\t\t\t\tpatients[mem_id] = p\n",
    "\t\t\t\telse:\n",
    "\t\t\t\t\tpatients[mem_id].addVisit(adj_date, visit)\n",
    "\n",
    "\t\t\treturn patients, diseases\n",
    "\n",
    "\t\t#categoryfile = '$dxref 2015.csv'\n",
    "\t\tdf = cleanData(filename)\n",
    "\t\tdic = parseCSV()\n",
    "\t\tdisease_codes = set(dic.keys())\n",
    "\t\tpatients, diseases = createPatients(df, disease_codes)\n",
    "\t\treturn patients, diseases, disease_codes, dic\n",
    "\n",
    "\n",
    "\t##### FUNCTION TO FILTER DATA FOR TRAINING SETS #####\n",
    "\tdef train(self, target):\n",
    "\t\tpatient_train = {}\n",
    "\t\tdisease_train = {}\n",
    "\t\ttarget_diseases = target.getUnique()\n",
    "\n",
    "\t\tfor patient in self.patients.values():\n",
    "\t\t\tcombined = target_diseases & patient.getUnique()\n",
    "\t\t\tif len(combined) >= 2:\n",
    "\t\t\t\tpatient_train[patient.getMemID()] = patient\n",
    "\t\t\t\tfor disease in patient.getUnique():\n",
    "\t\t\t\t\tif disease not in disease_train:\n",
    "\t\t\t\t\t\tdisease_train[disease] = set()\n",
    "\t\t\t\t\tdisease_train[disease].add(patient.getMemID())\n",
    "\t\t\t\n",
    "\n",
    "\t\treturn patient_train, disease_train\n",
    "\n",
    "\n",
    "\n",
    "\t##### COLLABORATIVE FILTERING ALGORITHMS #####\n",
    "\n",
    "\tdef evaluate(self, a, patient_set, disease_set, mode):\n",
    "\n",
    "\t\tdef w(a, i):\n",
    "\t\t\t\n",
    "\t\t\tdef f(self, j):\n",
    "\t\t\t\t\"\"\"Returns: log(# of patients in database / # of patients with disease j)\"\"\"\n",
    "\t\t\t\treturn np.log( (1.0)*len(patient_set) / len(disease_set[j]) )\n",
    "\n",
    "\t\t\ttotal_sum = 0\n",
    "\t\t\tcombined = a.getUnique() & i.getUnique()\n",
    "\t\t\tfor disease in combined:\n",
    "\t\t\t\tfirst_half = f(self, disease) / math.sqrt(sum(f(self, k)**2 for k in a.getUnique()))\n",
    "\t\t\t\tsecond_half = f(self, disease) / math.sqrt(sum(f(self, k)**2 for k in i.getUnique()))\n",
    "\t\t\t\ttotal_sum += first_half * second_half\n",
    "\t\t\treturn total_sum\n",
    "\n",
    "\t\tdef K(self, a):\n",
    "\t\t\treturn 1.0 / (sum(w(a, i) for i in patient_set.values()))\n",
    "\n",
    "\t\tdef V(self, j):\n",
    "\t\t\treturn (1.0) * len(disease_set[j]) / len(patient_set)\n",
    "\n",
    "\t\tdef V_C(self, j, c):\n",
    "\t\t\treturn (1.0) * len(disease_set[j] & disease_set[c]) / len(patient_set)\n",
    "\n",
    "\t\tdef z(j, c):\n",
    "\t\t\t\n",
    "\t\t\tdef S(self, p):\n",
    "\t\t\t\tn1 = len(self.diseases[c])\n",
    "\t\t\t\tn2 = len(self.patients)\n",
    "\t\t\t\treturn math.sqrt( (p * (1.0 - p) / n1) + (p * (1.0 - p) / n2) )\n",
    "\n",
    "\t\t\tp1 = V_C(self, j, c)\n",
    "\t\t\tp2 = V(self, j)\n",
    "\t\t\tweighted_avg = (p1 + p2) / 2\n",
    "\t\t\tscore = (p1 - p2) / S(self, weighted_avg)\n",
    "\t\t\treturn score\n",
    "\n",
    "\t\tdef p(self, j):\n",
    "\t\t\t\treturn V(self, j) + K(self, a) * (1.0 - V(self, j)) * (sum(w(a, patient_set[i]) for i in disease_set[j]))\n",
    "\n",
    "\t\tdef getCARE(self):\n",
    "\t\t\tdisease_score = []\n",
    "\t\t\tfor disease in disease_set.keys():\n",
    "\t\t\t\tscore = p(self, disease)\n",
    "\t\t\t\tdisease_score.append([score, disease])\n",
    "\t\t\treturn disease_score\n",
    "\n",
    "\t\tdef getICARE(self):\n",
    "\t\t\tdisease_score = []\n",
    "\t\t\tnorm_constant = K(self, a)\n",
    "\t\t\tfor j in disease_set.keys():\n",
    "\t\t\t\tmax_score = 0\n",
    "\t\t\t\tfor c in a.getUnique():\n",
    "\t\t\t\t\tif j == c:\n",
    "\t\t\t\t\t\tcontinue\n",
    "\t\t\t\t\tif z(j, c) >= 1.96 or z(j, c) <= -1.96:\n",
    "\t\t\t\t\t\tcombined = disease_set[c] & disease_set[j]\n",
    "\t\t\t\t\t\tcurrent_score = V_C(self, j, c) + norm_constant * (1.0 - V_C(self, j, c)) * (sum(w(a, patient_set[i]) for i in combined))\n",
    "\t\t\t\t\t\tif current_score > max_score:\n",
    "\t\t\t\t\t\t\tmax_score = current_score\n",
    "\t\t\t\tdisease_score.append([max_score, j])\n",
    "\n",
    "\t\t\treturn disease_score\n",
    "\n",
    "\t\tif mode == 'CARE':\n",
    "\t\t\tdisease_score = getCARE(self)\n",
    "\t\t\n",
    "\t\telif mode == 'ICARE':\n",
    "\t\t\tdisease_score = getICARE(self)\n",
    "\n",
    "\t\treturn disease_score\n",
    "\n",
    "\t##############################################\n",
    "\t\n",
    "\n",
    "\tdef predict(self, target, mode):\n",
    "\n",
    "\t\t# Filter the data first\n",
    "\t\tif mode == 'CARE':\n",
    "\t\t\tpatient_train, disease_train = self.train(target)\n",
    "\t\telse:\n",
    "\t\t\tpatient_train = self.patients\n",
    "\t\t\tdisease_train = self.diseases\n",
    "\n",
    "\t\tdisease_score = self.evaluate(target, patient_train, disease_train, mode)\n",
    "\t\tdisease_score.sort(key = lambda x: x[0], reverse=True)\n",
    "\n",
    "\t\tself.printPatient(target, self.dic)\n",
    "\t\tself.printDiseases(target, disease_score[:20], self.dic)\n",
    "\n",
    "\n",
    "\t##############################################\n",
    "\n",
    "\t##### PRINT FUNCTIONS #####\n",
    "\n",
    "\tdef printPatient(self, patient, dic):\n",
    "\t\tcount = 1\n",
    "\t\tprint('The patient has the following diseases:')\n",
    "\t\tfor disease in patient.getUnique():\n",
    "\t\t\tprint('\\t%d. ' %count + dic[disease] + ' (' + disease + ')')\n",
    "\t\t\tcount+=1\n",
    "\t\tprint('\\n')\n",
    "\n",
    "\n",
    "\tdef printDiseases(self, patient, predDisease, dic):\n",
    "\t\tcount = 1\n",
    "\t\tprint('The patient has a possibility of getting the following 10 diseases:')\n",
    "\t\tfor disease in predDisease:\n",
    "\t\t\tif disease[1] in patient.getUnique():\n",
    "\t\t\t\tcontinue\n",
    "\t\t\tprint('\\t%d. ' %count + dic[disease[1]] + ' (' + disease[1] + \\\n",
    "\t\t\t\t  ') -- ' + '{0:.2f}'.format(disease[0]))\n",
    "\t\t\tcount+=1\n",
    "\t\t\tif count == 11:\n",
    "\t\t\t\treturn\n",
    "\n",
    "\t###########################"
   ]
  },
  {
   "cell_type": "markdown",
   "metadata": {
    "slideshow": {
     "slide_type": "subslide"
    }
   },
   "source": [
    "# Sample line from a data file"
   ]
  },
  {
   "cell_type": "markdown",
   "metadata": {
    "slideshow": {
     "slide_type": "fragment"
    }
   },
   "source": [
    "tbd"
   ]
  },
  {
   "cell_type": "markdown",
   "metadata": {
    "slideshow": {
     "slide_type": "slide"
    }
   },
   "source": [
    "# Step 2: Similarity Constraint for training set"
   ]
  },
  {
   "cell_type": "markdown",
   "metadata": {
    "slideshow": {
     "slide_type": "fragment"
    }
   },
   "source": [
    "#### *We obtain our training set by constraining our patient database with users with at least 2 common diseases with the target patient*"
   ]
  },
  {
   "cell_type": "markdown",
   "metadata": {
    "slideshow": {
     "slide_type": "fragment"
    }
   },
   "source": [
    "#### *This serves to remove the influence of patients with little or no similarity with the target patient*"
   ]
  },
  {
   "cell_type": "markdown",
   "metadata": {
    "slideshow": {
     "slide_type": "fragment"
    }
   },
   "source": [
    "#### *Does not result in loss of information, and reduces runtime of the algorithm*"
   ]
  },
  {
   "cell_type": "markdown",
   "metadata": {
    "slideshow": {
     "slide_type": "slide"
    }
   },
   "source": [
    "# Step 3: Experiments"
   ]
  },
  {
   "cell_type": "markdown",
   "metadata": {
    "slideshow": {
     "slide_type": "subslide"
    }
   },
   "source": [
    "# Create our example patient to be used as the target"
   ]
  },
  {
   "cell_type": "code",
   "execution_count": 6,
   "metadata": {
    "collapsed": true,
    "slideshow": {
     "slide_type": "skip"
    }
   },
   "outputs": [],
   "source": [
    "care = CARE(file1)"
   ]
  },
  {
   "cell_type": "code",
   "execution_count": 15,
   "metadata": {
    "collapsed": false,
    "slideshow": {
     "slide_type": "fragment"
    }
   },
   "outputs": [
    {
     "name": "stdout",
     "output_type": "stream",
     "text": [
      "The patient has the following diseases:\n",
      "\t1. ROUTINE MEDICAL EXAM (V700)\n",
      "\t2. Disord iron metablsm NEC (Begin 2010) (27509)\n",
      "\t3. ANXIETY STATE NOS (30000)\n",
      "\n",
      "\n"
     ]
    }
   ],
   "source": [
    "#              Patient(ID, Gender, Age, diagnosis_list, adjudication_date)\n",
    "patient_zero = Patient('1', '0', '57', ['27509', '30000', 'V700'], '05/31/1994')\n",
    "\n",
    "care.printPatient(patient_zero, care.getDic())"
   ]
  },
  {
   "cell_type": "markdown",
   "metadata": {
    "slideshow": {
     "slide_type": "subslide"
    }
   },
   "source": [
    "# Create our training sample set from the database based on our target patient"
   ]
  },
  {
   "cell_type": "code",
   "execution_count": 10,
   "metadata": {
    "collapsed": false,
    "slideshow": {
     "slide_type": "fragment"
    }
   },
   "outputs": [
    {
     "name": "stdout",
     "output_type": "stream",
     "text": [
      "Length of patient set before training: 66370\n",
      "Length of patient set after training: 70\n"
     ]
    }
   ],
   "source": [
    "patient_train, disease_train = care.train(patient_zero)\n",
    "\n",
    "print('Length of patient set before training: %d'  %len(care.getPatients()))\n",
    "print('Length of patient set after training: %d'  %len(patient_train))"
   ]
  },
  {
   "cell_type": "markdown",
   "metadata": {
    "slideshow": {
     "slide_type": "subslide"
    }
   },
   "source": [
    "# Make CARE prediction"
   ]
  },
  {
   "cell_type": "code",
   "execution_count": 11,
   "metadata": {
    "collapsed": false,
    "slideshow": {
     "slide_type": "fragment"
    }
   },
   "outputs": [
    {
     "name": "stdout",
     "output_type": "stream",
     "text": [
      "The patient has the following diseases:\n",
      "\t1. ROUTINE MEDICAL EXAM (V700)\n",
      "\t2. Disord iron metablsm NEC (Begin 2010) (27509)\n",
      "\t3. ANXIETY STATE NOS (30000)\n",
      "\n",
      "\n",
      "The patient has a possibility of getting the following 10 diseases:\n",
      "\t1. CIRRHOSIS OF LIVER NOS (5715) -- 0.99\n",
      "\t2. OTHER PSORIASIS (6961) -- 0.80\n",
      "\t3. LONGTERM USE OTH MED (Begin 1995) (V5869) -- 0.42\n",
      "\t4. ENCEPHALOPATHY- UNSPECIFIED (Begin 2003) (34830) -- 0.40\n",
      "\t5. Hemochromatos-rbc trans (Begin 2010) (27502) -- 0.40\n",
      "\t6. CLOSED SKULL VAULT FX (80000) -- 0.40\n",
      "\t7. SCREEN MALIG PROSTATE (Begin 1998) (V7644) -- 0.34\n",
      "\t8. CHR HEPAT C W/O COMA (Begin 1994) (07054) -- 0.33\n",
      "\t9. ELEV BL PRES W/O HYPERTN (7962) -- 0.33\n",
      "\t10. AC FRONTAL SINUSITIS (4611) -- 0.33\n"
     ]
    }
   ],
   "source": [
    "care.predict(patient_zero, 'CARE')"
   ]
  },
  {
   "cell_type": "markdown",
   "metadata": {
    "slideshow": {
     "slide_type": "subslide"
    }
   },
   "source": [
    "# Make ICARE Prediction"
   ]
  },
  {
   "cell_type": "code",
   "execution_count": 13,
   "metadata": {
    "collapsed": false,
    "slideshow": {
     "slide_type": "fragment"
    }
   },
   "outputs": [
    {
     "name": "stdout",
     "output_type": "stream",
     "text": [
      "The patient has the following diseases:\n",
      "\t1. ROUTINE MEDICAL EXAM (V700)\n",
      "\t2. Disord iron metablsm NEC (Begin 2010) (27509)\n",
      "\t3. ANXIETY STATE NOS (30000)\n",
      "\n",
      "\n",
      "The patient has a possibility of getting the following 10 diseases:\n",
      "\t1. OTHER PSORIASIS (6961) -- 0.61\n",
      "\t2. HYPERLIPIDEMIA NEC/NOS (2724) -- 0.10\n",
      "\t3. HYPERTENSION NOS (4019) -- 0.07\n",
      "\t4. BENIGN HYPERTENSION (4011) -- 0.07\n",
      "\t5. CIRRHOSIS OF LIVER NOS (5715) -- 0.05\n",
      "\t6. PSORIAS RELATED DIS NEC (6968) -- 0.04\n",
      "\t7. DEPRESSIVE DISORDER NEC (311) -- 0.03\n",
      "\t8. HYPOTHYROIDISM NOS (2449) -- 0.03\n",
      "\t9. PURE HYPERCHOLESTEROLEM (2720) -- 0.03\n",
      "\t10. LONGTERM USE OTH MED (Begin 1995) (V5869) -- 0.03\n"
     ]
    }
   ],
   "source": [
    "care.predict(patient_zero, 'ICARE')"
   ]
  },
  {
   "cell_type": "code",
   "execution_count": null,
   "metadata": {
    "collapsed": true,
    "slideshow": {
     "slide_type": "skip"
    }
   },
   "outputs": [],
   "source": []
  }
 ],
 "metadata": {
  "celltoolbar": "Slideshow",
  "kernelspec": {
   "display_name": "Python 2",
   "language": "python",
   "name": "python2"
  },
  "language_info": {
   "codemirror_mode": {
    "name": "ipython",
    "version": 2
   },
   "file_extension": ".py",
   "mimetype": "text/x-python",
   "name": "python",
   "nbconvert_exporter": "python",
   "pygments_lexer": "ipython2",
   "version": "2.7.11"
  }
 },
 "nbformat": 4,
 "nbformat_minor": 0
}
